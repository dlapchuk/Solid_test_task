{
 "cells": [
  {
   "cell_type": "markdown",
   "metadata": {},
   "source": [
    "# Task"
   ]
  },
  {
   "cell_type": "markdown",
   "metadata": {},
   "source": [
    "Implement a model using machine learning classifiers, which will determine whether the transaction is fraudulent or not.\n",
    "\n",
    "Requirements: \n",
    "* Fraud precision > 90%\n",
    "* Maximum Fraud recall"
   ]
  },
  {
   "cell_type": "markdown",
   "metadata": {},
   "source": [
    "# Data loading and invistigation"
   ]
  },
  {
   "cell_type": "code",
   "execution_count": 5,
   "metadata": {},
   "outputs": [],
   "source": [
    "import pandas as pd\n",
    "import numpy as np\n",
    "import matplotlib.pyplot as plt\n",
    "from sklearn.model_selection import train_test_split\n",
    "from sklearn.linear_model import LogisticRegression\n",
    "from sklearn.metrics import classification_report\n",
    "from sklearn.metrics import confusion_matrix\n",
    "from sklearn.decomposition import PCA as sklearnPCA\n",
    "from sklearn.discriminant_analysis import LinearDiscriminantAnalysis as LDA\n",
    "from sklearn.datasets.samples_generator import make_blobs\n",
    "from pandas.tools.plotting import parallel_coordinates\n",
    "from sklearn.model_selection import train_test_split\n",
    "from sklearn.linear_model import LogisticRegression\n",
    "from sklearn.metrics import classification_report, cohen_kappa_score, confusion_matrix\n",
    "from sklearn.metrics import f1_score, recall_score\n",
    "from sklearn.ensemble import RandomForestClassifier\n",
    "from sklearn.model_selection import GridSearchCV\n",
    "from xgboost.sklearn import XGBClassifier\n",
    "from sklearn.tree import DecisionTreeClassifier\n",
    "from sklearn.ensemble import RandomForestClassifier, VotingClassifier"
   ]
  },
  {
   "cell_type": "code",
   "execution_count": 6,
   "metadata": {},
   "outputs": [],
   "source": [
    "# Load all data to dataframe\n",
    "frame = pd.read_excel('DatasetTask2SolidDataAnalyst.xlsx', sheet_name='Sheet1')"
   ]
  },
  {
   "cell_type": "markdown",
   "metadata": {},
   "source": [
    "Fraud detection has the following properties:\n",
    "* uncommon - fraud cases are in minority\n",
    "* concealed - fraudsters try their best to \"blend\" in and cenceal their activities\n",
    "* changing over time - fraudsters find new methods to avoid getting caught, and as such their behavior changes over time\n",
    "* organized - fraudsters oftentimes work together and organize their activities in a network, making it harder to detect"
   ]
  },
  {
   "cell_type": "code",
   "execution_count": 7,
   "metadata": {},
   "outputs": [
    {
     "data": {
      "text/plain": [
       "(94579, 194)"
      ]
     },
     "execution_count": 7,
     "metadata": {},
     "output_type": "execute_result"
    }
   ],
   "source": [
    "# Get dataframe shape\n",
    "frame.shape"
   ]
  },
  {
   "cell_type": "markdown",
   "metadata": {},
   "source": [
    "Check the balance of data for both classes."
   ]
  },
  {
   "cell_type": "code",
   "execution_count": 8,
   "metadata": {},
   "outputs": [
    {
     "data": {
      "text/plain": [
       "0    0.957263\n",
       "1    0.042737\n",
       "Name: fraud, dtype: float64"
      ]
     },
     "execution_count": 8,
     "metadata": {},
     "output_type": "execute_result"
    }
   ],
   "source": [
    "occ = frame['fraud'].value_counts()\n",
    "occ/len(frame.index)"
   ]
  },
  {
   "cell_type": "markdown",
   "metadata": {},
   "source": [
    "Split data to features and labels."
   ]
  },
  {
   "cell_type": "code",
   "execution_count": 9,
   "metadata": {},
   "outputs": [],
   "source": [
    "y = frame['fraud']\n",
    "X = frame.loc[:, frame.columns != 'fraud']"
   ]
  },
  {
   "cell_type": "markdown",
   "metadata": {},
   "source": [
    "Split data to train and test Sets."
   ]
  },
  {
   "cell_type": "code",
   "execution_count": 10,
   "metadata": {},
   "outputs": [],
   "source": [
    "X_train, X_test, y_train, y_test = train_test_split(X, y, test_size=0.3, random_state=0)"
   ]
  },
  {
   "cell_type": "markdown",
   "metadata": {},
   "source": [
    "# Data resampling"
   ]
  },
  {
   "cell_type": "markdown",
   "metadata": {},
   "source": [
    "Fraud cases are in minority. To manage class imbalance I will use SMOTE.\n",
    "Synthetic Minority Oversampling Technique uses charecteristics of nearest neighbours of fraud cases to create new synthetic fraud cases, and therby avoids diplications observations.\n",
    "Works good only if fraud cases are quite similar to each other."
   ]
  },
  {
   "cell_type": "code",
   "execution_count": 11,
   "metadata": {},
   "outputs": [],
   "source": [
    "from imblearn.over_sampling import SMOTE"
   ]
  },
  {
   "cell_type": "code",
   "execution_count": 12,
   "metadata": {},
   "outputs": [],
   "source": [
    "method = SMOTE(kind='regular')\n",
    "X_train, y_train = method.fit_sample(X_train, y_train)"
   ]
  },
  {
   "cell_type": "markdown",
   "metadata": {},
   "source": [
    "Create function to visualize data."
   ]
  },
  {
   "cell_type": "code",
   "execution_count": 13,
   "metadata": {},
   "outputs": [],
   "source": [
    "def visualize_data(X, y):\n",
    "    pca = sklearnPCA(n_components=2) #2-dimensional PCA\n",
    "    transformed = pd.DataFrame(pca.fit_transform(X))\n",
    "    plt.scatter(transformed[y==0][0], transformed[y==0][1], label='Normal', c='red')\n",
    "    plt.scatter(transformed[y==1][0], transformed[y==1][1], label='Fraud', c='blue')\n",
    "\n",
    "    plt.legend()\n",
    "    plt.show()"
   ]
  },
  {
   "cell_type": "markdown",
   "metadata": {},
   "source": [
    "Show data before resampling."
   ]
  },
  {
   "cell_type": "code",
   "execution_count": 14,
   "metadata": {},
   "outputs": [
    {
     "data": {
      "image/png": "[encoded data removed]",
      "text/plain": [
       "<Figure size 432x288 with 1 Axes>"
      ]
     },
     "metadata": {
      "needs_background": "light"
     },
     "output_type": "display_data"
    }
   ],
   "source": [
    "visualize_data(X, y)"
   ]
  },
  {
   "cell_type": "markdown",
   "metadata": {},
   "source": [
    "Show data after resampling."
   ]
  },
  {
   "cell_type": "code",
   "execution_count": 15,
   "metadata": {},
   "outputs": [
    {
     "data": {
      "image/png": "[encoded data removed]",
      "text/plain": [
       "<Figure size 432x288 with 1 Axes>"
      ]
     },
     "metadata": {
      "needs_background": "light"
     },
     "output_type": "display_data"
    }
   ],
   "source": [
    "visualize_data(X_train, y_train)"
   ]
  },
  {
   "cell_type": "markdown",
   "metadata": {},
   "source": [
    "# Predict Fraud"
   ]
  },
  {
   "cell_type": "markdown",
   "metadata": {},
   "source": [
    "Create function that will run model and return results."
   ]
  },
  {
   "cell_type": "code",
   "execution_count": 16,
   "metadata": {},
   "outputs": [],
   "source": [
    "def run_model(model, X_train, y_train, X_test, y_test):\n",
    "    model.fit(X_train, y_train)\n",
    "    pred = model.predict(X_test)\n",
    "    matrix = confusion_matrix(y_test, pred)\n",
    "    report = classification_report(y_test, pred)\n",
    "    return matrix, report, pred"
   ]
  },
  {
   "cell_type": "markdown",
   "metadata": {},
   "source": [
    "Create function that will Print Stats for model."
   ]
  },
  {
   "cell_type": "markdown",
   "metadata": {},
   "source": [
    "Fraud precision is the proportion of elements really belonging to this class relative to all documents that the system attributed to fraud.\n",
    "The fraud recall is the proportion of elements found by the classifier of the class fraud belonging to all the documents of this class in the test sample.\n",
    "In our case fraud is negative. So \n",
    "\n",
    "Precision = TN/(TN+FN)\n",
    "\n",
    "Recall = TN/(TN+FP)\n",
    "\n",
    "Let's also calculate Accuracy, Cohen Kappa, Recall and F1 for every model."
   ]
  },
  {
   "cell_type": "code",
   "execution_count": 25,
   "metadata": {},
   "outputs": [],
   "source": [
    "def print_stats(cmat, report, y_test, pred):\n",
    "   # separate out the confusion matrix components\n",
    "    tpos = cmat[0][0]\n",
    "    fneg = cmat[0][1]\n",
    "    fpos = cmat[1][0]\n",
    "    tneg = cmat[1][1]\n",
    "    # calculate F!, Recall scores\n",
    "    f1Score = round(f1_score(y_test, pred), 2)\n",
    "    recallScore = round(recall_score(y_test, pred), 2)\n",
    "    # calculate and display metrics\n",
    "    print(cmat)\n",
    "    print(report)\n",
    "    # calculate metrics for fraud data\n",
    "    print('Fraud precision:' + str(np.round(100*float(tneg)/float(tneg+fneg), 2))+'%')\n",
    "    print('Fraud recall:'+str(np.round(100*float(tneg)/float(tneg+fpos), 2))+'%')\n",
    "    print( 'Accuracy: '+ str(np.round(100*float(tpos+fneg)/float(tpos+fneg + fpos + tneg),2))+'%')\n",
    "    print( 'Cohen Kappa: '+ str(np.round(cohen_kappa_score(y_test, pred),3)))\n",
    "    print(\"Sensitivity/Recall for Model : {recall_score}\".format(recall_score = recallScore))\n",
    "    print(\"F1 Score for Model : {f1_score}\".format(f1_score = f1Score))"
   ]
  },
  {
   "cell_type": "markdown",
   "metadata": {},
   "source": [
    "Use simple logistic regression to predict fraud."
   ]
  },
  {
   "cell_type": "code",
   "execution_count": 18,
   "metadata": {},
   "outputs": [
    {
     "name": "stdout",
     "output_type": "stream",
     "text": [
      "[[27073    62]\n",
      " [ 1234     5]]\n",
      "              precision    recall  f1-score   support\n",
      "\n",
      "           0       0.96      1.00      0.98     27135\n",
      "           1       0.07      0.00      0.01      1239\n",
      "\n",
      "   micro avg       0.95      0.95      0.95     28374\n",
      "   macro avg       0.52      0.50      0.49     28374\n",
      "weighted avg       0.92      0.95      0.93     28374\n",
      "\n",
      "Fraud precision:7.46%\n",
      "Fraud recall:0.4%\n",
      "Accuracy: 95.63%\n",
      "Cohen Kappa: 0.003\n",
      "Sensitivity/Recall for Model : 0.0\n",
      "F1 Score for Model : 0.01\n"
     ]
    }
   ],
   "source": [
    "# Fit a logistic regression model to the data\n",
    "model = LogisticRegression(solver='lbfgs')\n",
    "conf_matr, report, predicted = run_model(model, X_train, y_train, X_test, y_test)\n",
    "# Print the classifcation report and confusion matrix\n",
    "print_stats(conf_matr, report, y_test, predicted)"
   ]
  },
  {
   "cell_type": "markdown",
   "metadata": {},
   "source": [
    "Logistic regression model has very low precision and recall. \n",
    "Logistic regression assumes that there is one smooth linear decision boundary.\n",
    "Let's try Random Forest Classifier now."
   ]
  },
  {
   "cell_type": "code",
   "execution_count": 19,
   "metadata": {},
   "outputs": [
    {
     "name": "stdout",
     "output_type": "stream",
     "text": [
      "[[27087    48]\n",
      " [  818   421]]\n",
      "              precision    recall  f1-score   support\n",
      "\n",
      "           0       0.97      1.00      0.98     27135\n",
      "           1       0.90      0.34      0.49      1239\n",
      "\n",
      "   micro avg       0.97      0.97      0.97     28374\n",
      "   macro avg       0.93      0.67      0.74     28374\n",
      "weighted avg       0.97      0.97      0.96     28374\n",
      "\n",
      "Fraud precision:89.77%\n",
      "Fraud recall:33.98%\n",
      "Accuracy: 95.63%\n",
      "Cohen Kappa: 0.481\n",
      "Sensitivity/Recall for Model : 0.34\n",
      "F1 Score for Model : 0.49\n"
     ]
    }
   ],
   "source": [
    "model = RandomForestClassifier(random_state=6, class_weight='balanced', n_estimators=100)\n",
    "conf_matr, report, predicted = run_model(model, X_train, y_train, X_test, y_test)\n",
    "# Print the classifcation report and confusion matrix\n",
    "print_stats(conf_matr, report, y_test, predicted)"
   ]
  },
  {
   "cell_type": "markdown",
   "metadata": {},
   "source": [
    "Random Forest Classifier performs much better. Precision is close to requirements.\n",
    "\n",
    "Let's try XGBCLassifier with different parameters to predict labels.\n",
    "Use not resampled data for this classifier."
   ]
  },
  {
   "cell_type": "code",
   "execution_count": 40,
   "metadata": {
    "scrolled": true
   },
   "outputs": [
    {
     "name": "stdout",
     "output_type": "stream",
     "text": [
      "[[27085    92]\n",
      " [  660   537]]\n",
      "              precision    recall  f1-score   support\n",
      "\n",
      "           0       0.98      1.00      0.99     27177\n",
      "           1       0.85      0.45      0.59      1197\n",
      "\n",
      "   micro avg       0.97      0.97      0.97     28374\n",
      "   macro avg       0.91      0.72      0.79     28374\n",
      "weighted avg       0.97      0.97      0.97     28374\n",
      "\n",
      "Fraud precision:85.37%\n",
      "Fraud recall:44.86%\n",
      "Accuracy: 95.78%\n",
      "Cohen Kappa: 0.576\n",
      "Sensitivity/Recall for Model : 0.45\n",
      "F1 Score for Model : 0.59\n"
     ]
    }
   ],
   "source": [
    "X_train, X_test, y_train, y_test = train_test_split(X, y, test_size=0.3)\n",
    "model1 = XGBClassifier(max_depth = 10, n_jobs = 4, subsample=0.7 )\n",
    "# Get the results \n",
    "conf_matr, report, predicted = run_model(model1, X_train, y_train, X_test, y_test)\n",
    "# Print the classifcation report and confusion matrix\n",
    "print_stats(conf_matr, report, y_test, predicted)"
   ]
  },
  {
   "cell_type": "code",
   "execution_count": 41,
   "metadata": {},
   "outputs": [
    {
     "name": "stdout",
     "output_type": "stream",
     "text": [
      "[[27118    59]\n",
      " [  791   406]]\n",
      "              precision    recall  f1-score   support\n",
      "\n",
      "           0       0.97      1.00      0.98     27177\n",
      "           1       0.87      0.34      0.49      1197\n",
      "\n",
      "   micro avg       0.97      0.97      0.97     28374\n",
      "   macro avg       0.92      0.67      0.74     28374\n",
      "weighted avg       0.97      0.97      0.96     28374\n",
      "\n",
      "Fraud precision:87.31%\n",
      "Fraud recall:33.92%\n",
      "Accuracy: 95.78%\n",
      "Cohen Kappa: 0.476\n",
      "Sensitivity/Recall for Model : 0.34\n",
      "F1 Score for Model : 0.49\n"
     ]
    }
   ],
   "source": [
    "model2 = XGBClassifier(max_depth=8, eta=10**-1, silent=1, min_child_weight=3, subsample= 0.7 ,early_stopping_rounds=10, objective=\"count:poisson\",colsample_bytree=0.65)\n",
    "\n",
    "conf_matr, report, predicted = run_model(model2, X_train, y_train, X_test, y_test)\n",
    "# Print the classifcation report and confusion matrix\n",
    "print_stats(conf_matr, report, y_test, predicted)"
   ]
  },
  {
   "cell_type": "markdown",
   "metadata": {},
   "source": [
    "First model showed better result. XGBoost gives precision close to requirement and high recall.\n",
    "\n",
    "Let's get importance parameters from this model for top 30 features and show their importance on the chart."
   ]
  },
  {
   "cell_type": "code",
   "execution_count": 22,
   "metadata": {},
   "outputs": [
    {
     "data": {
      "image/png": "[encoded data removed]",
      "text/plain": [
       "<Figure size 432x288 with 1 Axes>"
      ]
     },
     "metadata": {
      "needs_background": "light"
     },
     "output_type": "display_data"
    }
   ],
   "source": [
    "from matplotlib import pyplot\n",
    "\n",
    "features = X.columns.to_frame().reset_index(drop=True)\n",
    "features['importance'] = model1.feature_importances_\n",
    "features.columns = ['name', 'importance']\n",
    "main_features = features.sort_values(by=['importance'], ascending=False).head(30)\n",
    "pyplot.bar(range(len(main_features)), main_features.importance)\n",
    "x_pos = np.arange(len(main_features))\n",
    "pyplot.xticks(x_pos, main_features.name, rotation='vertical')\n",
    "pyplot.show()"
   ]
  },
  {
   "cell_type": "markdown",
   "metadata": {},
   "source": [
    "As we see XBGClassifier and Random Forest Classifier give the best result. Let's use ensemle of multiple methods to improve predictive model.\n",
    "\n",
    "My empirical tests have shown that the best results are obtained by combining three machine learning methods - XGBClassifier, RandomForestClassifier and DecisionTreeClassifier."
   ]
  },
  {
   "cell_type": "code",
   "execution_count": 29,
   "metadata": {},
   "outputs": [
    {
     "name": "stdout",
     "output_type": "stream",
     "text": [
      "[[27096    39]\n",
      " [  819   420]]\n",
      "              precision    recall  f1-score   support\n",
      "\n",
      "           0       0.97      1.00      0.98     27135\n",
      "           1       0.92      0.34      0.49      1239\n",
      "\n",
      "   micro avg       0.97      0.97      0.97     28374\n",
      "   macro avg       0.94      0.67      0.74     28374\n",
      "weighted avg       0.97      0.97      0.96     28374\n",
      "\n",
      "Fraud precision:91.5%\n",
      "Fraud recall:33.9%\n",
      "Accuracy: 95.63%\n",
      "Cohen Kappa: 0.482\n",
      "Sensitivity/Recall for Model : 0.34\n",
      "F1 Score for Model : 0.49\n"
     ]
    }
   ],
   "source": [
    "\n",
    "# Define the three classifiers to use in the ensemble\n",
    "clf1 = XGBClassifier(max_depth = 9, n_jobs = 4)\n",
    "clf2 = RandomForestClassifier(criterion='gini', max_depth=4, max_features='auto', n_estimators=30)\n",
    "clf3 = DecisionTreeClassifier(class_weight=\"balanced\")\n",
    "\n",
    "# Combine the classifiers in the ensemble model\n",
    "ensemble_model = VotingClassifier(estimators=[('xgb', clf1), ('rf', clf2), ('gnb', clf3)], voting='hard', weights=[4, 4, 2], flatten_transform=True)\n",
    "conf_matr, report, predicted = run_model(ensemble_model, X_train, y_train, X_test, y_test)\n",
    "# Print the classifcation report and confusion matrix\n",
    "print_stats(conf_matr, report, y_test, predicted)"
   ]
  },
  {
   "cell_type": "markdown",
   "metadata": {},
   "source": [
    "Precision meets the desired level. However, recall has decreased.\n",
    "\n",
    "Method predict_proba() will give the likelihood of fraud for scoring cards."
   ]
  },
  {
   "cell_type": "code",
   "execution_count": 38,
   "metadata": {},
   "outputs": [],
   "source": [
    "pred = model.predict_proba(X_test)"
   ]
  },
  {
   "cell_type": "markdown",
   "metadata": {},
   "source": [
    "# Results"
   ]
  },
  {
   "cell_type": "markdown",
   "metadata": {},
   "source": [
    "During the study, it was found that the best results give RandomForestClassifier and XGClassifier. \n",
    "Voting classifier with XGBoost, RandomForest and DecisionTree gave the best result by precision on not resampled data.\n",
    "Opportunities for improvement: use GridSearchCV to find the most effective parameters for each classifier."
   ]
  },
  {
   "cell_type": "code",
   "execution_count": null,
   "metadata": {},
   "outputs": [],
   "source": []
  }
 ],
 "metadata": {
  "kernelspec": {
   "display_name": "Python 3",
   "language": "python",
   "name": "python3"
  },
  "language_info": {
   "codemirror_mode": {
    "name": "ipython",
    "version": 3
   },
   "file_extension": ".py",
   "mimetype": "text/x-python",
   "name": "python",
   "nbconvert_exporter": "python",
   "pygments_lexer": "ipython3",
   "version": "3.7.0"
  }
 },
 "nbformat": 4,
 "nbformat_minor": 2
}
