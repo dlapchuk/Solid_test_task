{
 "cells": [
  {
   "cell_type": "markdown",
   "metadata": {},
   "source": [
    "# Task"
   ]
  },
  {
   "cell_type": "markdown",
   "metadata": {},
   "source": [
    "Implement a model using machine learning classifiers, which will determine whether the transaction is fraudulent or not.\n",
    "\n",
    "Requirements: \n",
    "* Fraud precision > 90%\n",
    "* Maximum Fraud recall"
   ]
  },
  {
   "cell_type": "markdown",
   "metadata": {},
   "source": [
    "# Data loading and invistigation"
   ]
  },
  {
   "cell_type": "code",
   "execution_count": 1,
   "metadata": {},
   "outputs": [],
   "source": [
    "import pandas as pd\n",
    "import numpy as np\n",
    "import matplotlib.pyplot as plt\n",
    "from sklearn.model_selection import train_test_split\n",
    "from sklearn.linear_model import LogisticRegression\n",
    "from sklearn.metrics import classification_report\n",
    "from sklearn.metrics import confusion_matrix\n",
    "from sklearn.decomposition import PCA as sklearnPCA\n",
    "from sklearn.discriminant_analysis import LinearDiscriminantAnalysis as LDA\n",
    "from sklearn.datasets.samples_generator import make_blobs\n",
    "from pandas.tools.plotting import parallel_coordinates\n",
    "from sklearn.model_selection import train_test_split\n",
    "from sklearn.linear_model import LogisticRegression\n",
    "from sklearn.metrics import classification_report, cohen_kappa_score, confusion_matrix\n",
    "from sklearn.metrics import f1_score, recall_score\n",
    "from sklearn.ensemble import RandomForestClassifier\n",
    "from sklearn.model_selection import GridSearchCV\n",
    "from xgboost.sklearn import XGBClassifier\n",
    "from sklearn.tree import DecisionTreeClassifier\n",
    "from sklearn.ensemble import RandomForestClassifier, VotingClassifier"
   ]
  },
  {
   "cell_type": "code",
   "execution_count": 2,
   "metadata": {},
   "outputs": [],
   "source": [
    "# Load all data to dataframe\n",
    "frame = pd.read_excel('DatasetTask2SolidDataAnalyst.xlsx', sheet_name='Sheet1')"
   ]
  },
  {
   "cell_type": "code",
   "execution_count": 3,
   "metadata": {},
   "outputs": [
    {
     "data": {
      "text/plain": [
       "(94579, 194)"
      ]
     },
     "execution_count": 3,
     "metadata": {},
     "output_type": "execute_result"
    }
   ],
   "source": [
    "# Get dataframe shape\n",
    "frame.shape"
   ]
  },
  {
   "cell_type": "markdown",
   "metadata": {},
   "source": [
    "Check the balance of data for both classes."
   ]
  },
  {
   "cell_type": "code",
   "execution_count": 4,
   "metadata": {},
   "outputs": [
    {
     "data": {
      "text/plain": [
       "0    0.957263\n",
       "1    0.042737\n",
       "Name: fraud, dtype: float64"
      ]
     },
     "execution_count": 4,
     "metadata": {},
     "output_type": "execute_result"
    }
   ],
   "source": [
    "occ = frame['fraud'].value_counts()\n",
    "occ/len(frame.index)"
   ]
  },
  {
   "cell_type": "markdown",
   "metadata": {},
   "source": [
    "Split data to features and labels."
   ]
  },
  {
   "cell_type": "code",
   "execution_count": 5,
   "metadata": {},
   "outputs": [],
   "source": [
    "y = frame['fraud']\n",
    "X = frame.loc[:, frame.columns != 'fraud']"
   ]
  },
  {
   "cell_type": "markdown",
   "metadata": {},
   "source": [
    "Split data to train and test Sets."
   ]
  },
  {
   "cell_type": "code",
   "execution_count": 6,
   "metadata": {},
   "outputs": [],
   "source": [
    "X_train, X_test, y_train, y_test = train_test_split(X, y, test_size=0.3, random_state=0)"
   ]
  },
  {
   "cell_type": "markdown",
   "metadata": {},
   "source": [
    "# Data resampling"
   ]
  },
  {
   "cell_type": "markdown",
   "metadata": {},
   "source": [
    "Fraud cases are in minority. To manage class imbalance I will use SMOTE.\n",
    "Synthetic Minority Oversampling Technique uses charecteristics of nearest neighbours of fraud cases to create new synthetic fraud cases, and therby avoids diplications observations.\n",
    "Works good only if fraud cases are quite similar to each other."
   ]
  },
  {
   "cell_type": "code",
   "execution_count": 7,
   "metadata": {},
   "outputs": [],
   "source": [
    "from imblearn.over_sampling import SMOTE"
   ]
  },
  {
   "cell_type": "code",
   "execution_count": 8,
   "metadata": {},
   "outputs": [],
   "source": [
    "method = SMOTE(kind='regular')\n",
    "X_train, y_train = method.fit_sample(X_train, y_train)"
   ]
  },
  {
   "cell_type": "markdown",
   "metadata": {},
   "source": [
    "Create function to visualize data."
   ]
  },
  {
   "cell_type": "code",
   "execution_count": 9,
   "metadata": {},
   "outputs": [],
   "source": [
    "def visualize_data(X, y):\n",
    "    pca = sklearnPCA(n_components=2) #2-dimensional PCA\n",
    "    transformed = pd.DataFrame(pca.fit_transform(X))\n",
    "    plt.scatter(transformed[y==0][0], transformed[y==0][1], label='Normal', c='red')\n",
    "    plt.scatter(transformed[y==1][0], transformed[y==1][1], label='Fraud', c='blue')\n",
    "\n",
    "    plt.legend()\n",
    "    plt.show()"
   ]
  },
  {
   "cell_type": "markdown",
   "metadata": {},
   "source": [
    "Show data before resampling."
   ]
  },
  {
   "cell_type": "code",
   "execution_count": 10,
   "metadata": {},
   "outputs": [
    {
     "data": {
      "image/png": "[encoded data removed]",
      "text/plain": [
       "<Figure size 432x288 with 1 Axes>"
      ]
     },
     "metadata": {
      "needs_background": "light"
     },
     "output_type": "display_data"
    }
   ],
   "source": [
    "visualize_data(X, y)"
   ]
  },
  {
   "cell_type": "markdown",
   "metadata": {},
   "source": [
    "Show data after resampling."
   ]
  },
  {
   "cell_type": "code",
   "execution_count": 11,
   "metadata": {},
   "outputs": [
    {
     "data": {
      "image/png": "[encoded data removed]",
      "text/plain": [
       "<Figure size 432x288 with 1 Axes>"
      ]
     },
     "metadata": {
      "needs_background": "light"
     },
     "output_type": "display_data"
    }
   ],
   "source": [
    "visualize_data(X_train, y_train)"
   ]
  },
  {
   "cell_type": "markdown",
   "metadata": {},
   "source": [
    "# Predict Fraud"
   ]
  },
  {
   "cell_type": "markdown",
   "metadata": {},
   "source": [
    "Create function that will run model and return results."
   ]
  },
  {
   "cell_type": "code",
   "execution_count": 12,
   "metadata": {},
   "outputs": [],
   "source": [
    "def run_model(model, X_train, y_train, X_test, y_test):\n",
    "    model.fit(X_train, y_train)\n",
    "    pred = model.predict(X_test)\n",
    "    matrix = confusion_matrix(y_test, pred)\n",
    "    report = classification_report(y_test, pred)\n",
    "    return matrix, report, pred"
   ]
  },
  {
   "cell_type": "markdown",
   "metadata": {},
   "source": [
    "Create function that will Print Stats for model."
   ]
  },
  {
   "cell_type": "code",
   "execution_count": 13,
   "metadata": {},
   "outputs": [],
   "source": [
    "def print_stats(cmat, report, y_test, pred):\n",
    "   # separate out the confusion matrix components\n",
    "    tpos = cmat[0][0]\n",
    "    fneg = cmat[0][1]\n",
    "    fpos = cmat[1][0]\n",
    "    tneg = cmat[1][1]\n",
    "    # calculate F!, Recall scores\n",
    "    f1Score = round(f1_score(y_test, pred), 2)\n",
    "    recallScore = round(recall_score(y_test, pred), 2)\n",
    "    # calculate and display metrics\n",
    "    print(cmat)\n",
    "    print(report)\n",
    "    # calculate accuracy for fraud data\n",
    "    print('Fraud precision:' + str(np.round(100*float(tneg)/float(tneg+fneg), 2))+'%')\n",
    "    print('Fraud recall:'+str(np.round(100*float(tneg)/float(tneg+fpos), 2))+'%')\n",
    "    print( 'Accuracy: '+ str(np.round(100*float(tpos+fneg)/float(tpos+fneg + fpos + tneg),2))+'%')\n",
    "    print( 'Cohen Kappa: '+ str(np.round(cohen_kappa_score(y_test, pred),3)))\n",
    "    print(\"Sensitivity/Recall for Model : {recall_score}\".format(recall_score = recallScore))\n",
    "    print(\"F1 Score for Model : {f1_score}\".format(f1_score = f1Score))"
   ]
  },
  {
   "cell_type": "markdown",
   "metadata": {},
   "source": [
    "Use simple logistic regression to predict fraud."
   ]
  },
  {
   "cell_type": "code",
   "execution_count": 14,
   "metadata": {},
   "outputs": [
    {
     "name": "stdout",
     "output_type": "stream",
     "text": [
      "[[27092    43]\n",
      " [ 1236     3]]\n",
      "              precision    recall  f1-score   support\n",
      "\n",
      "           0       0.96      1.00      0.98     27135\n",
      "           1       0.07      0.00      0.00      1239\n",
      "\n",
      "   micro avg       0.95      0.95      0.95     28374\n",
      "   macro avg       0.51      0.50      0.49     28374\n",
      "weighted avg       0.92      0.95      0.93     28374\n",
      "\n",
      "Fraud precision:6.52%\n",
      "Fraud recall:0.24%\n",
      "Accuracy: 95.63%\n",
      "Cohen Kappa: 0.002\n",
      "Sensitivity/Recall for Model : 0.0\n",
      "F1 Score for Model : 0.0\n"
     ]
    }
   ],
   "source": [
    "# Fit a logistic regression model to the data\n",
    "model = LogisticRegression(solver='lbfgs')\n",
    "conf_matr, report, predicted = run_model(model, X_train, y_train, X_test, y_test)\n",
    "# Print the classifcation report and confusion matrix\n",
    "print_stats(conf_matr, report, y_test, predicted)"
   ]
  },
  {
   "cell_type": "markdown",
   "metadata": {},
   "source": [
    "Logistic regression model has very low precision and recall. \n",
    "Logistic regression assumes that there is one smooth linear decision boundary.\n",
    "Let's try Random Forest Classifier now."
   ]
  },
  {
   "cell_type": "code",
   "execution_count": 15,
   "metadata": {},
   "outputs": [
    {
     "name": "stdout",
     "output_type": "stream",
     "text": [
      "[[27075    60]\n",
      " [  831   408]]\n",
      "              precision    recall  f1-score   support\n",
      "\n",
      "           0       0.97      1.00      0.98     27135\n",
      "           1       0.87      0.33      0.48      1239\n",
      "\n",
      "   micro avg       0.97      0.97      0.97     28374\n",
      "   macro avg       0.92      0.66      0.73     28374\n",
      "weighted avg       0.97      0.97      0.96     28374\n",
      "\n",
      "Fraud precision:87.18%\n",
      "Fraud recall:32.93%\n",
      "Accuracy: 95.63%\n",
      "Cohen Kappa: 0.465\n",
      "Sensitivity/Recall for Model : 0.33\n",
      "F1 Score for Model : 0.48\n"
     ]
    }
   ],
   "source": [
    "model = RandomForestClassifier(random_state=6, class_weight='balanced', n_estimators=100)\n",
    "conf_matr, report, predicted = run_model(model, X_train, y_train, X_test, y_test)\n",
    "# Print the classifcation report and confusion matrix\n",
    "print_stats(conf_matr, report, y_test, predicted)"
   ]
  },
  {
   "cell_type": "markdown",
   "metadata": {},
   "source": [
    "Random Forest Classifier performs much better. Precision is close to requirements.\n",
    "\n",
    "Let's try XGBCLassifier with different parameters to predict labels."
   ]
  },
  {
   "cell_type": "code",
   "execution_count": 21,
   "metadata": {
    "scrolled": true
   },
   "outputs": [
    {
     "name": "stderr",
     "output_type": "stream",
     "text": [
      "C:\\Users\\dalap\\AppData\\Local\\Continuum\\anaconda3\\lib\\site-packages\\ipykernel_launcher.py:4: FutureWarning: Method .as_matrix will be removed in a future version. Use .values instead.\n",
      "  after removing the cwd from sys.path.\n"
     ]
    },
    {
     "name": "stdout",
     "output_type": "stream",
     "text": [
      "[[27058    77]\n",
      " [  654   585]]\n",
      "              precision    recall  f1-score   support\n",
      "\n",
      "           0       0.98      1.00      0.99     27135\n",
      "           1       0.88      0.47      0.62      1239\n",
      "\n",
      "   micro avg       0.97      0.97      0.97     28374\n",
      "   macro avg       0.93      0.73      0.80     28374\n",
      "weighted avg       0.97      0.97      0.97     28374\n",
      "\n",
      "Fraud precision:88.37%\n",
      "Fraud recall:47.22%\n",
      "Accuracy: 95.63%\n",
      "Cohen Kappa: 0.603\n",
      "Sensitivity/Recall for Model : 0.47\n",
      "F1 Score for Model : 0.62\n"
     ]
    }
   ],
   "source": [
    "X_train, X_test, y_train, y_test = train_test_split(X, y, test_size=0.3, random_state=0)\n",
    "model1 = XGBClassifier(max_depth = 10, n_jobs = 4, subsample=0.7 )\n",
    "# Get the results \n",
    "conf_matr, report, predicted = run_model(model1, X_train.as_matrix(), y_train, X_test.as_matrix(), y_test)\n",
    "# Print the classifcation report and confusion matrix\n",
    "print_stats(conf_matr, report, y_test, predicted)"
   ]
  },
  {
   "cell_type": "code",
   "execution_count": 23,
   "metadata": {},
   "outputs": [
    {
     "name": "stderr",
     "output_type": "stream",
     "text": [
      "C:\\Users\\dalap\\AppData\\Local\\Continuum\\anaconda3\\lib\\site-packages\\ipykernel_launcher.py:3: FutureWarning: Method .as_matrix will be removed in a future version. Use .values instead.\n",
      "  This is separate from the ipykernel package so we can avoid doing imports until\n"
     ]
    },
    {
     "name": "stdout",
     "output_type": "stream",
     "text": [
      "[[27078    57]\n",
      " [  795   444]]\n",
      "              precision    recall  f1-score   support\n",
      "\n",
      "           0       0.97      1.00      0.98     27135\n",
      "           1       0.89      0.36      0.51      1239\n",
      "\n",
      "   micro avg       0.97      0.97      0.97     28374\n",
      "   macro avg       0.93      0.68      0.75     28374\n",
      "weighted avg       0.97      0.97      0.96     28374\n",
      "\n",
      "Fraud precision:88.62%\n",
      "Fraud recall:35.84%\n",
      "Accuracy: 95.63%\n",
      "Cohen Kappa: 0.498\n",
      "Sensitivity/Recall for Model : 0.36\n",
      "F1 Score for Model : 0.51\n"
     ]
    }
   ],
   "source": [
    "model2 = XGBClassifier(max_depth=8, eta=10**-1, silent=1, min_child_weight=3, subsample= 0.7 ,early_stopping_rounds=10, objective=\"count:poisson\",colsample_bytree=0.65)\n",
    "\n",
    "conf_matr, report, predicted = run_model(model2, X_train.as_matrix(), y_train, X_test.as_matrix(), y_test)\n",
    "# Print the classifcation report and confusion matrix\n",
    "print_stats(conf_matr, report, y_test, predicted)"
   ]
  },
  {
   "cell_type": "markdown",
   "metadata": {},
   "source": [
    "First model showed better result. XGBoost gives precision close to requirement (89%) and high recall(47%).\n",
    "\n",
    "Let's get importance parameters from this model for top 30 features."
   ]
  },
  {
   "cell_type": "code",
   "execution_count": 24,
   "metadata": {},
   "outputs": [
    {
     "data": {
      "image/png": "[encoded data removed]",
      "text/plain": [
       "<Figure size 432x288 with 1 Axes>"
      ]
     },
     "metadata": {
      "needs_background": "light"
     },
     "output_type": "display_data"
    }
   ],
   "source": [
    "from matplotlib import pyplot\n",
    "\n",
    "features = X.columns.to_frame().reset_index(drop=True)\n",
    "features['importance'] = model1.feature_importances_\n",
    "features.columns = ['name', 'importance']\n",
    "main_features = features.sort_values(by=['importance'], ascending=False).head(30)\n",
    "pyplot.bar(range(len(main_features)), main_features.importance)\n",
    "x_pos = np.arange(len(main_features))\n",
    "pyplot.xticks(x_pos, main_features.name, rotation='vertical')\n",
    "pyplot.show()"
   ]
  },
  {
   "cell_type": "markdown",
   "metadata": {},
   "source": [
    "As we see XBGClassifier and Random Forest Classifier give the best result. Let's use ensemle of multiple methods to improve predictive model.\n",
    "\n",
    "My empirical tests have shown that the best results are obtained by combining three machine learning methods - XGBClassifier, RandomForestClassifier and DecisionTreeClassifier."
   ]
  },
  {
   "cell_type": "code",
   "execution_count": 26,
   "metadata": {},
   "outputs": [
    {
     "name": "stderr",
     "output_type": "stream",
     "text": [
      "C:\\Users\\dalap\\AppData\\Local\\Continuum\\anaconda3\\lib\\site-packages\\ipykernel_launcher.py:9: FutureWarning: Method .as_matrix will be removed in a future version. Use .values instead.\n",
      "  if __name__ == '__main__':\n"
     ]
    },
    {
     "name": "stdout",
     "output_type": "stream",
     "text": [
      "[[27095    40]\n",
      " [  823   416]]\n",
      "              precision    recall  f1-score   support\n",
      "\n",
      "           0       0.97      1.00      0.98     27135\n",
      "           1       0.91      0.34      0.49      1239\n",
      "\n",
      "   micro avg       0.97      0.97      0.97     28374\n",
      "   macro avg       0.94      0.67      0.74     28374\n",
      "weighted avg       0.97      0.97      0.96     28374\n",
      "\n",
      "Fraud precision:91.23%\n",
      "Fraud recall:33.58%\n",
      "Accuracy: 95.63%\n",
      "Cohen Kappa: 0.479\n",
      "Sensitivity/Recall for Model : 0.34\n",
      "F1 Score for Model : 0.49\n"
     ]
    }
   ],
   "source": [
    "\n",
    "# Define the three classifiers to use in the ensemble\n",
    "clf1 = XGBClassifier(max_depth = 9, n_jobs = 4)\n",
    "clf2 = RandomForestClassifier(random_state=6, criterion='gini', max_depth=4, max_features='auto', n_estimators=30)\n",
    "clf3 = DecisionTreeClassifier(random_state=5, class_weight=\"balanced\")\n",
    "\n",
    "# Combine the classifiers in the ensemble model\n",
    "ensemble_model = VotingClassifier(estimators=[('xgb', clf1), ('rf', clf2), ('gnb', clf3)], voting='hard', weights=[4, 4, 2], flatten_transform=True)\n",
    "conf_matr, report, predicted = run_model(ensemble_model, X_train.as_matrix(), y_train, X_test.as_matrix(), y_test)\n",
    "# Print the classifcation report and confusion matrix\n",
    "print_stats(conf_matr, report, y_test, predicted)"
   ]
  },
  {
   "cell_type": "markdown",
   "metadata": {},
   "source": [
    "Precision (91%) meets the desired level.\n",
    "\n",
    "Method predict_proba() will give the likelihood of fraud for scoring cards."
   ]
  },
  {
   "cell_type": "code",
   "execution_count": null,
   "metadata": {},
   "outputs": [],
   "source": []
  }
 ],
 "metadata": {
  "kernelspec": {
   "display_name": "Python 3",
   "language": "python",
   "name": "python3"
  },
  "language_info": {
   "codemirror_mode": {
    "name": "ipython",
    "version": 3
   },
   "file_extension": ".py",
   "mimetype": "text/x-python",
   "name": "python",
   "nbconvert_exporter": "python",
   "pygments_lexer": "ipython3",
   "version": "3.7.0"
  }
 },
 "nbformat": 4,
 "nbformat_minor": 2
}
