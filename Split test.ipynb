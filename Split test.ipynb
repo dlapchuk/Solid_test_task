{
 "cells": [
  {
   "cell_type": "markdown",
   "metadata": {},
   "source": [
    "# Task"
   ]
  },
  {
   "cell_type": "markdown",
   "metadata": {},
   "source": [
    "Null hypothesis is that change in the design of form for the test group would result in no change in the conversion rate."
   ]
  },
  {
   "cell_type": "markdown",
   "metadata": {},
   "source": [
    "# Data loading and investigation."
   ]
  },
  {
   "cell_type": "code",
   "execution_count": 3,
   "metadata": {},
   "outputs": [],
   "source": [
    "import pandas as pd\n",
    "import numpy as np\n",
    "import matplotlib.pyplot as plt\n",
    "import scipy.stats as scs\n",
    "from statsmodels.stats.proportion import proportions_ztest, proportion_confint\n",
    "from scipy.stats import norm"
   ]
  },
  {
   "cell_type": "markdown",
   "metadata": {},
   "source": [
    "Read data from excel sheet to dataframe."
   ]
  },
  {
   "cell_type": "code",
   "execution_count": 5,
   "metadata": {},
   "outputs": [],
   "source": [
    "frame = pd.read_excel('DatasetTask1SolidDataAnalyst.xlsx', sheet_name='Sheet2')"
   ]
  },
  {
   "cell_type": "code",
   "execution_count": 6,
   "metadata": {},
   "outputs": [
    {
     "data": {
      "text/html": [
       "<div>\n",
       "<style scoped>\n",
       "    .dataframe tbody tr th:only-of-type {\n",
       "        vertical-align: middle;\n",
       "    }\n",
       "\n",
       "    .dataframe tbody tr th {\n",
       "        vertical-align: top;\n",
       "    }\n",
       "\n",
       "    .dataframe thead th {\n",
       "        text-align: right;\n",
       "    }\n",
       "</style>\n",
       "<table border=\"1\" class=\"dataframe\">\n",
       "  <thead>\n",
       "    <tr style=\"text-align: right;\">\n",
       "      <th></th>\n",
       "      <th>DEVICES_BRANDS</th>\n",
       "      <th>BROWSERS</th>\n",
       "      <th>DEVICE_TYPE</th>\n",
       "      <th>Conversion</th>\n",
       "      <th>A/B</th>\n",
       "      <th>config_os</th>\n",
       "      <th>config_os_version</th>\n",
       "      <th>config_resolution</th>\n",
       "      <th>idvisit</th>\n",
       "      <th>platform_v4</th>\n",
       "    </tr>\n",
       "  </thead>\n",
       "  <tbody>\n",
       "    <tr>\n",
       "      <th>0</th>\n",
       "      <td>Other</td>\n",
       "      <td>CHROME MOBILE</td>\n",
       "      <td>SMARTPHONE</td>\n",
       "      <td>1</td>\n",
       "      <td>old</td>\n",
       "      <td>AND</td>\n",
       "      <td>7</td>\n",
       "      <td>360x640</td>\n",
       "      <td>4801472</td>\n",
       "      <td>MOB</td>\n",
       "    </tr>\n",
       "    <tr>\n",
       "      <th>1</th>\n",
       "      <td>Other</td>\n",
       "      <td>Other</td>\n",
       "      <td>NaN</td>\n",
       "      <td>1</td>\n",
       "      <td>old</td>\n",
       "      <td>AND</td>\n",
       "      <td>4.3</td>\n",
       "      <td>1440x1440</td>\n",
       "      <td>4790389</td>\n",
       "      <td>MOB</td>\n",
       "    </tr>\n",
       "    <tr>\n",
       "      <th>2</th>\n",
       "      <td>SAMSUNG</td>\n",
       "      <td>CHROME MOBILE</td>\n",
       "      <td>SMARTPHONE</td>\n",
       "      <td>1</td>\n",
       "      <td>new</td>\n",
       "      <td>AND</td>\n",
       "      <td>7</td>\n",
       "      <td>360x640</td>\n",
       "      <td>5272442</td>\n",
       "      <td>MOB</td>\n",
       "    </tr>\n",
       "    <tr>\n",
       "      <th>3</th>\n",
       "      <td>APPLE</td>\n",
       "      <td>MOBILE SAFARI</td>\n",
       "      <td>SMARTPHONE</td>\n",
       "      <td>1</td>\n",
       "      <td>new</td>\n",
       "      <td>IOS</td>\n",
       "      <td>11.3</td>\n",
       "      <td>414x736</td>\n",
       "      <td>5030185</td>\n",
       "      <td>MOB</td>\n",
       "    </tr>\n",
       "    <tr>\n",
       "      <th>4</th>\n",
       "      <td>Other</td>\n",
       "      <td>CHROME MOBILE</td>\n",
       "      <td>SMARTPHONE</td>\n",
       "      <td>1</td>\n",
       "      <td>old</td>\n",
       "      <td>AND</td>\n",
       "      <td>7</td>\n",
       "      <td>360x640</td>\n",
       "      <td>3857978</td>\n",
       "      <td>MOB</td>\n",
       "    </tr>\n",
       "  </tbody>\n",
       "</table>\n",
       "</div>"
      ],
      "text/plain": [
       "  DEVICES_BRANDS       BROWSERS DEVICE_TYPE  Conversion  A/B config_os  \\\n",
       "0          Other  CHROME MOBILE  SMARTPHONE           1  old       AND   \n",
       "1          Other          Other         NaN           1  old       AND   \n",
       "2        SAMSUNG  CHROME MOBILE  SMARTPHONE           1  new       AND   \n",
       "3          APPLE  MOBILE SAFARI  SMARTPHONE           1  new       IOS   \n",
       "4          Other  CHROME MOBILE  SMARTPHONE           1  old       AND   \n",
       "\n",
       "  config_os_version config_resolution  idvisit platform_v4  \n",
       "0                 7           360x640  4801472         MOB  \n",
       "1               4.3         1440x1440  4790389         MOB  \n",
       "2                 7           360x640  5272442         MOB  \n",
       "3              11.3           414x736  5030185         MOB  \n",
       "4                 7           360x640  3857978         MOB  "
      ]
     },
     "execution_count": 6,
     "metadata": {},
     "output_type": "execute_result"
    }
   ],
   "source": [
    "frame.head()"
   ]
  },
  {
   "cell_type": "markdown",
   "metadata": {},
   "source": [
    "Check if there null values in A/B column."
   ]
  },
  {
   "cell_type": "code",
   "execution_count": 8,
   "metadata": {},
   "outputs": [
    {
     "data": {
      "text/plain": [
       "False"
      ]
     },
     "execution_count": 8,
     "metadata": {},
     "output_type": "execute_result"
    }
   ],
   "source": [
    "frame['A/B'].isnull().values.any()"
   ]
  },
  {
   "cell_type": "code",
   "execution_count": 9,
   "metadata": {},
   "outputs": [
    {
     "name": "stdout",
     "output_type": "stream",
     "text": [
      "26585\n",
      "26585\n"
     ]
    }
   ],
   "source": [
    "N = frame.shape[0]\n",
    "print(N)\n",
    "visits = frame.idvisit.nunique()\n",
    "print(visits)"
   ]
  },
  {
   "cell_type": "markdown",
   "metadata": {},
   "source": [
    "There is only unique id in data.\n",
    "\n",
    "Check probability of getting new page."
   ]
  },
  {
   "cell_type": "code",
   "execution_count": 13,
   "metadata": {},
   "outputs": [
    {
     "name": "stdout",
     "output_type": "stream",
     "text": [
      "The probability that an individual received the new page is 58.04%\n"
     ]
    }
   ],
   "source": [
    "New_p = frame[frame['A/B']=='new'].shape[0] /  N\n",
    "print(\"The probability that an individual received the new page is {0:.2%}\".format(New_p))"
   ]
  },
  {
   "cell_type": "markdown",
   "metadata": {},
   "source": [
    "# Calculate sample size."
   ]
  },
  {
   "cell_type": "markdown",
   "metadata": {},
   "source": [
    "Let's calculate sample size needed to find difference in data."
   ]
  },
  {
   "cell_type": "code",
   "execution_count": 18,
   "metadata": {},
   "outputs": [],
   "source": [
    "def get_sample_size(p=0.5):\n",
    "    z = 1.96 #z-score for confidence level (95% for 1.95)\n",
    "    e = 0.05 #margin of error\n",
    "\n",
    "    return (z * z) * p * (1 - p) / (e * e)"
   ]
  },
  {
   "cell_type": "markdown",
   "metadata": {},
   "source": [
    "Calculate conversion for control group."
   ]
  },
  {
   "cell_type": "code",
   "execution_count": 30,
   "metadata": {},
   "outputs": [
    {
     "name": "stdout",
     "output_type": "stream",
     "text": [
      "Conversion for control group is 12.09%\n"
     ]
    }
   ],
   "source": [
    "N_A = frame[frame['A/B']=='old'].shape[0]\n",
    "N_B = frame[frame['A/B']=='new'].shape[0]\n",
    "p = float(frame[frame['Conversion']==1].shape[0])/frame.shape[0]\n",
    "print(\"Conversion for control group is {0:.2%}\".format(p))"
   ]
  },
  {
   "cell_type": "code",
   "execution_count": 36,
   "metadata": {},
   "outputs": [
    {
     "name": "stdout",
     "output_type": "stream",
     "text": [
      "Minimal sample size needed is 164\n"
     ]
    }
   ],
   "source": [
    "print(\"Minimal sample size needed is {0}\".format(int(get_sample_size(p)+1)))"
   ]
  },
  {
   "cell_type": "markdown",
   "metadata": {},
   "source": [
    "Find conversion for each group."
   ]
  },
  {
   "cell_type": "code",
   "execution_count": 38,
   "metadata": {},
   "outputs": [],
   "source": [
    "ab_summary = frame.pivot_table(values='Conversion', index='A/B', aggfunc=np.sum)\n",
    "ab_summary['total'] = frame.pivot_table(values='Conversion', index='A/B', aggfunc=lambda x: len(x))\n",
    "ab_summary['rate'] = frame.pivot_table(values='Conversion', index='A/B')"
   ]
  },
  {
   "cell_type": "code",
   "execution_count": 40,
   "metadata": {},
   "outputs": [
    {
     "data": {
      "text/html": [
       "<div>\n",
       "<style scoped>\n",
       "    .dataframe tbody tr th:only-of-type {\n",
       "        vertical-align: middle;\n",
       "    }\n",
       "\n",
       "    .dataframe tbody tr th {\n",
       "        vertical-align: top;\n",
       "    }\n",
       "\n",
       "    .dataframe thead th {\n",
       "        text-align: right;\n",
       "    }\n",
       "</style>\n",
       "<table border=\"1\" class=\"dataframe\">\n",
       "  <thead>\n",
       "    <tr style=\"text-align: right;\">\n",
       "      <th></th>\n",
       "      <th>Conversion</th>\n",
       "      <th>total</th>\n",
       "      <th>rate</th>\n",
       "    </tr>\n",
       "    <tr>\n",
       "      <th>A/B</th>\n",
       "      <th></th>\n",
       "      <th></th>\n",
       "      <th></th>\n",
       "    </tr>\n",
       "  </thead>\n",
       "  <tbody>\n",
       "    <tr>\n",
       "      <th>new</th>\n",
       "      <td>1865</td>\n",
       "      <td>15429</td>\n",
       "      <td>0.120876</td>\n",
       "    </tr>\n",
       "    <tr>\n",
       "      <th>old</th>\n",
       "      <td>1350</td>\n",
       "      <td>11156</td>\n",
       "      <td>0.121011</td>\n",
       "    </tr>\n",
       "  </tbody>\n",
       "</table>\n",
       "</div>"
      ],
      "text/plain": [
       "     Conversion  total      rate\n",
       "A/B                             \n",
       "new        1865  15429  0.120876\n",
       "old        1350  11156  0.121011"
      ]
     },
     "execution_count": 40,
     "metadata": {},
     "output_type": "execute_result"
    }
   ],
   "source": [
    "ab_summary"
   ]
  },
  {
   "cell_type": "code",
   "execution_count": 41,
   "metadata": {},
   "outputs": [],
   "source": [
    "# Save probability to variables\n",
    "p_A = ab_summary.rate.old\n",
    "p_B = ab_summary.rate.new"
   ]
  },
  {
   "cell_type": "code",
   "execution_count": 42,
   "metadata": {},
   "outputs": [],
   "source": [
    "# Calculate converted count for each group\n",
    "A_converted = frame[(frame['A/B']=='old')&(frame['Conversion']==1)].shape[0]\n",
    "B_converted = frame[(frame['A/B']=='new')&(frame['Conversion']==1)].shape[0]"
   ]
  },
  {
   "cell_type": "markdown",
   "metadata": {},
   "source": [
    "# Visualize data"
   ]
  },
  {
   "cell_type": "code",
   "execution_count": 54,
   "metadata": {},
   "outputs": [
    {
     "data": {
      "image/png": "[encoded data removed]",
      "text/plain": [
       "<Figure size 864x432 with 1 Axes>"
      ]
     },
     "metadata": {
      "needs_background": "light"
     },
     "output_type": "display_data"
    }
   ],
   "source": [
    "# standard error of the mean for both groups\n",
    "SE_A = np.sqrt(p_A * (1-p_A)) / np.sqrt(N_A)\n",
    "SE_B = np.sqrt(p_B * (1-p_B)) / np.sqrt(N_B)\n",
    "# plot the null and alternate hypothesis\n",
    "fig, ax = plt.subplots(figsize=(12,6))\n",
    "xA = np.linspace(p_A-3*SE_A, p_A+3*SE_A, N_A)\n",
    "xB = np.linspace(p_A-3*SE_A, p_A+3*SE_A, N_B)\n",
    "yA = scs.norm(p_A, SE_A).pdf(xA)\n",
    "ax.plot(xA, yA, c='red')\n",
    "ax.axvline(x=p_A, c='red', alpha=0.5, linestyle='--')\n",
    "yB = scs.norm(p_B, SE_B).pdf(xB)\n",
    "ax.plot(xB, yB, c='blue')\n",
    "ax.axvline(x=p_B, c='blue', alpha=0.5, linestyle='--')\n",
    "\n",
    "plt.xlabel('Converted Proportion')\n",
    "plt.ylabel('PDF')\n",
    "plt.show()"
   ]
  },
  {
   "cell_type": "markdown",
   "metadata": {},
   "source": [
    "The dashed lines represent the mean conversion rate for each group. The distance between the red dashed line and the blue dashed line is equal to mean difference between the control and test group. "
   ]
  },
  {
   "cell_type": "code",
   "execution_count": 48,
   "metadata": {},
   "outputs": [
    {
     "data": {
      "image/png": "[encoded data removed]",
      "text/plain": [
       "<Figure size 864x432 with 1 Axes>"
      ]
     },
     "metadata": {
      "needs_background": "light"
     },
     "output_type": "display_data"
    }
   ],
   "source": [
    "#Calculate 95% confidential interval for old version\n",
    "a, b = proportion_confint(A_converted, N_A, alpha=0.05, method='normal')\n",
    "\n",
    "\n",
    "# standard error of the mean for both groups\n",
    "SE_A = np.sqrt(p_A * (1-p_A)) / np.sqrt(N_A)\n",
    "SE_B = np.sqrt(p_B * (1-p_B)) / np.sqrt(N_B)\n",
    "# plot the null and alternate hypothesis\n",
    "fig, ax = plt.subplots(figsize=(12,6))\n",
    "xA = np.linspace(p_A-3*SE_A, p_A+3*SE_A, N_A)\n",
    "xB = np.linspace(p_A-3*SE_A, p_A+3*SE_A, N_B)\n",
    "yA = scs.norm(p_A, SE_A).pdf(xA)\n",
    "ax.plot(xA, yA, c='red')\n",
    "ax.axvline(x=p_A, c='red', alpha=0.5, linestyle='--')\n",
    "yB = scs.norm(p_B, SE_B).pdf(xB)\n",
    "ax.plot(xB, yB, c='blue')\n",
    "ax.axvline(x=p_B, c='blue', alpha=0.5, linestyle='--')\n",
    "\n",
    "ax.axvline(x=a, c='peachpuff', alpha=1, linestyle='--')\n",
    "ax.axvline(x=b, c='peachpuff', alpha=1, linestyle='--')\n",
    "\n",
    "main_list = [item for item in xB if item > b]\n",
    "y_list = yB[-len(main_list):]\n",
    "ax.fill_between(main_list, 0, y_list, color='blue')\n",
    "\n",
    "main_list = [item for item in xB if item < a]\n",
    "y_list = yB[:len(main_list)]\n",
    "ax.fill_between(main_list, 0, y_list, color='blue')\n",
    "\n",
    "plt.xlabel('Converted Proportion')\n",
    "plt.ylabel('PDF')\n",
    "plt.show()"
   ]
  },
  {
   "cell_type": "markdown",
   "metadata": {},
   "source": [
    "The blue shaded area represents the statistical power, and the calculated value for power is also displayed on the plot. The red dashed lines in the plot above represent the confidence interval (95%) for the null hypothesis. Statistical power is calculated by finding the area under the alternative hypothesis distribution and outside of the confidence interval of the null hypothesis."
   ]
  },
  {
   "cell_type": "markdown",
   "metadata": {},
   "source": [
    "# Hypothesis testing "
   ]
  },
  {
   "cell_type": "code",
   "execution_count": 49,
   "metadata": {},
   "outputs": [],
   "source": [
    "#Import regression model library\n",
    "import statsmodels.api as sm"
   ]
  },
  {
   "cell_type": "markdown",
   "metadata": {},
   "source": [
    "Now use stats.proportions_ztest to compute your test statistic and p-value."
   ]
  },
  {
   "cell_type": "code",
   "execution_count": 50,
   "metadata": {},
   "outputs": [],
   "source": [
    "z_score, p_value = sm.stats.proportions_ztest(np.array([A_converted,B_converted]),np.array([N_A,N_B]), alternative = 'two-sided')"
   ]
  },
  {
   "cell_type": "code",
   "execution_count": 52,
   "metadata": {},
   "outputs": [
    {
     "data": {
      "text/plain": [
       "(0.03327748417932389, 0.9734533088356316)"
      ]
     },
     "execution_count": 52,
     "metadata": {},
     "output_type": "execute_result"
    }
   ],
   "source": [
    "z_score, p_value"
   ]
  },
  {
   "cell_type": "code",
   "execution_count": 56,
   "metadata": {},
   "outputs": [
    {
     "data": {
      "text/plain": [
       "0.5132733455821842"
      ]
     },
     "execution_count": 56,
     "metadata": {},
     "output_type": "execute_result"
    }
   ],
   "source": [
    "from scipy.stats import norm\n",
    "\n",
    "norm.cdf(z_score)# Tells us how significant our z-score is"
   ]
  },
  {
   "cell_type": "code",
   "execution_count": 57,
   "metadata": {},
   "outputs": [
    {
     "data": {
      "text/plain": [
       "1.959963984540054"
      ]
     },
     "execution_count": 57,
     "metadata": {},
     "output_type": "execute_result"
    }
   ],
   "source": [
    "\n",
    "norm.ppf(1-(0.05/2))# (two-tail critical value at 95% confidence)"
   ]
  },
  {
   "cell_type": "markdown",
   "metadata": {},
   "source": [
    "The p-value is 0.97 so we failed to reject the null hypothesis that old and new version have equal conversion."
   ]
  },
  {
   "cell_type": "markdown",
   "metadata": {},
   "source": [
    "# Show conversion for different groups."
   ]
  },
  {
   "cell_type": "markdown",
   "metadata": {},
   "source": [
    "Show distribution for different browsers."
   ]
  },
  {
   "cell_type": "code",
   "execution_count": 58,
   "metadata": {},
   "outputs": [],
   "source": [
    "table = pd.pivot_table(frame, values='Conversion', index='BROWSERS',columns=['A/B'], aggfunc=sum)"
   ]
  },
  {
   "cell_type": "code",
   "execution_count": 63,
   "metadata": {},
   "outputs": [
    {
     "data": {
      "text/html": [
       "<div>\n",
       "<style scoped>\n",
       "    .dataframe tbody tr th:only-of-type {\n",
       "        vertical-align: middle;\n",
       "    }\n",
       "\n",
       "    .dataframe tbody tr th {\n",
       "        vertical-align: top;\n",
       "    }\n",
       "\n",
       "    .dataframe thead th {\n",
       "        text-align: right;\n",
       "    }\n",
       "</style>\n",
       "<table border=\"1\" class=\"dataframe\">\n",
       "  <thead>\n",
       "    <tr style=\"text-align: right;\">\n",
       "      <th></th>\n",
       "      <th></th>\n",
       "      <th>converted</th>\n",
       "      <th>visits</th>\n",
       "      <th>conversion %</th>\n",
       "    </tr>\n",
       "    <tr>\n",
       "      <th>BROWSERS</th>\n",
       "      <th>A/B</th>\n",
       "      <th></th>\n",
       "      <th></th>\n",
       "      <th></th>\n",
       "    </tr>\n",
       "  </thead>\n",
       "  <tbody>\n",
       "    <tr>\n",
       "      <th rowspan=\"2\" valign=\"top\">CHROME</th>\n",
       "      <th>new</th>\n",
       "      <td>324</td>\n",
       "      <td>1457</td>\n",
       "      <td>22.24</td>\n",
       "    </tr>\n",
       "    <tr>\n",
       "      <th>old</th>\n",
       "      <td>236</td>\n",
       "      <td>1177</td>\n",
       "      <td>20.05</td>\n",
       "    </tr>\n",
       "    <tr>\n",
       "      <th rowspan=\"2\" valign=\"top\">CHROME MOBILE</th>\n",
       "      <th>new</th>\n",
       "      <td>1057</td>\n",
       "      <td>11746</td>\n",
       "      <td>9.00</td>\n",
       "    </tr>\n",
       "    <tr>\n",
       "      <th>old</th>\n",
       "      <td>790</td>\n",
       "      <td>8325</td>\n",
       "      <td>9.49</td>\n",
       "    </tr>\n",
       "    <tr>\n",
       "      <th rowspan=\"2\" valign=\"top\">FIREFOX</th>\n",
       "      <th>new</th>\n",
       "      <td>95</td>\n",
       "      <td>393</td>\n",
       "      <td>24.17</td>\n",
       "    </tr>\n",
       "    <tr>\n",
       "      <th>old</th>\n",
       "      <td>46</td>\n",
       "      <td>298</td>\n",
       "      <td>15.44</td>\n",
       "    </tr>\n",
       "    <tr>\n",
       "      <th rowspan=\"2\" valign=\"top\">MOBILE SAFARI</th>\n",
       "      <th>new</th>\n",
       "      <td>329</td>\n",
       "      <td>1428</td>\n",
       "      <td>23.04</td>\n",
       "    </tr>\n",
       "    <tr>\n",
       "      <th>old</th>\n",
       "      <td>223</td>\n",
       "      <td>1012</td>\n",
       "      <td>22.04</td>\n",
       "    </tr>\n",
       "    <tr>\n",
       "      <th rowspan=\"2\" valign=\"top\">Other</th>\n",
       "      <th>new</th>\n",
       "      <td>60</td>\n",
       "      <td>405</td>\n",
       "      <td>14.81</td>\n",
       "    </tr>\n",
       "    <tr>\n",
       "      <th>old</th>\n",
       "      <td>55</td>\n",
       "      <td>344</td>\n",
       "      <td>15.99</td>\n",
       "    </tr>\n",
       "  </tbody>\n",
       "</table>\n",
       "</div>"
      ],
      "text/plain": [
       "                   converted  visits  conversion %\n",
       "BROWSERS      A/B                                 \n",
       "CHROME        new        324    1457         22.24\n",
       "              old        236    1177         20.05\n",
       "CHROME MOBILE new       1057   11746          9.00\n",
       "              old        790    8325          9.49\n",
       "FIREFOX       new         95     393         24.17\n",
       "              old         46     298         15.44\n",
       "MOBILE SAFARI new        329    1428         23.04\n",
       "              old        223    1012         22.04\n",
       "Other         new         60     405         14.81\n",
       "              old         55     344         15.99"
      ]
     },
     "execution_count": 63,
     "metadata": {},
     "output_type": "execute_result"
    }
   ],
   "source": [
    "conv_by_browser = pd.DataFrame(frame.groupby(by=['BROWSERS', 'A/B']).Conversion.sum()).merge(\n",
    "    pd.DataFrame(frame.groupby(by=['BROWSERS', 'A/B']).idvisit.count()), \n",
    "    on=['BROWSERS', 'A/B'])\n",
    "conv_by_browser['conversion'] = round(100*conv_by_browser.Conversion / conv_by_browser.idvisit, 2)\n",
    "conv_by_browser.columns = ['converted', 'visits', 'conversion %']\n",
    "conv_by_browser"
   ]
  },
  {
   "cell_type": "code",
   "execution_count": 65,
   "metadata": {},
   "outputs": [
    {
     "data": {
      "text/html": [
       "<div>\n",
       "<style scoped>\n",
       "    .dataframe tbody tr th:only-of-type {\n",
       "        vertical-align: middle;\n",
       "    }\n",
       "\n",
       "    .dataframe tbody tr th {\n",
       "        vertical-align: top;\n",
       "    }\n",
       "\n",
       "    .dataframe thead th {\n",
       "        text-align: right;\n",
       "    }\n",
       "</style>\n",
       "<table border=\"1\" class=\"dataframe\">\n",
       "  <thead>\n",
       "    <tr style=\"text-align: right;\">\n",
       "      <th></th>\n",
       "      <th></th>\n",
       "      <th>converted</th>\n",
       "      <th>visits</th>\n",
       "      <th>conversion %</th>\n",
       "    </tr>\n",
       "    <tr>\n",
       "      <th>platform_v4</th>\n",
       "      <th>A/B</th>\n",
       "      <th></th>\n",
       "      <th></th>\n",
       "      <th></th>\n",
       "    </tr>\n",
       "  </thead>\n",
       "  <tbody>\n",
       "    <tr>\n",
       "      <th rowspan=\"2\" valign=\"top\">MOB</th>\n",
       "      <th>new</th>\n",
       "      <td>1446</td>\n",
       "      <td>13579</td>\n",
       "      <td>10.65</td>\n",
       "    </tr>\n",
       "    <tr>\n",
       "      <th>old</th>\n",
       "      <td>1068</td>\n",
       "      <td>9681</td>\n",
       "      <td>11.03</td>\n",
       "    </tr>\n",
       "    <tr>\n",
       "      <th rowspan=\"2\" valign=\"top\">WEB</th>\n",
       "      <th>new</th>\n",
       "      <td>419</td>\n",
       "      <td>1850</td>\n",
       "      <td>22.65</td>\n",
       "    </tr>\n",
       "    <tr>\n",
       "      <th>old</th>\n",
       "      <td>282</td>\n",
       "      <td>1475</td>\n",
       "      <td>19.12</td>\n",
       "    </tr>\n",
       "  </tbody>\n",
       "</table>\n",
       "</div>"
      ],
      "text/plain": [
       "                 converted  visits  conversion %\n",
       "platform_v4 A/B                                 \n",
       "MOB         new       1446   13579         10.65\n",
       "            old       1068    9681         11.03\n",
       "WEB         new        419    1850         22.65\n",
       "            old        282    1475         19.12"
      ]
     },
     "execution_count": 65,
     "metadata": {},
     "output_type": "execute_result"
    }
   ],
   "source": [
    "conv_by_platf = pd.DataFrame(frame.groupby(by=['platform_v4', 'A/B']).Conversion.sum()).merge(\n",
    "    pd.DataFrame(frame.groupby(by=['platform_v4', 'A/B']).idvisit.count()), \n",
    "    on=['platform_v4', 'A/B'])\n",
    "conv_by_platf['conversion'] = round(100*conv_by_platf.Conversion / conv_by_platf.idvisit, 2)\n",
    "conv_by_platf.columns = ['converted', 'visits', 'conversion %']\n",
    "conv_by_platf"
   ]
  },
  {
   "cell_type": "markdown",
   "metadata": {},
   "source": [
    "The conversion in the web platform is different for new and old version. Check the statistical hypothesis that the conversions for the two groups in the web platform are the same."
   ]
  },
  {
   "cell_type": "code",
   "execution_count": 77,
   "metadata": {},
   "outputs": [],
   "source": [
    "A_converted = conv_by_platf.converted['WEB']['old']\n",
    "B_converted = conv_by_platf.converted['WEB']['new']\n",
    "\n",
    "N_A = conv_by_platf.visits['WEB']['old']\n",
    "N_B = conv_by_platf.visits['WEB']['new']"
   ]
  },
  {
   "cell_type": "code",
   "execution_count": 78,
   "metadata": {},
   "outputs": [],
   "source": [
    "z_score, p_value = sm.stats.proportions_ztest(np.array([A_converted,B_converted]),np.array([N_A,N_B]), alternative = 'two-sided')"
   ]
  },
  {
   "cell_type": "code",
   "execution_count": 84,
   "metadata": {},
   "outputs": [
    {
     "data": {
      "text/plain": [
       "0.013167643539542613"
      ]
     },
     "execution_count": 84,
     "metadata": {},
     "output_type": "execute_result"
    }
   ],
   "source": [
    "p_value"
   ]
  },
  {
   "cell_type": "markdown",
   "metadata": {},
   "source": [
    "P<0.05 so we can be 95% confident that this result is a consequence of the changes you made and not a result of random chance.\n",
    "Conversion of the new version is bigger than conversion of the old version."
   ]
  },
  {
   "cell_type": "code",
   "execution_count": null,
   "metadata": {},
   "outputs": [],
   "source": []
  }
 ],
 "metadata": {
  "kernelspec": {
   "display_name": "Python 3",
   "language": "python",
   "name": "python3"
  },
  "language_info": {
   "codemirror_mode": {
    "name": "ipython",
    "version": 3
   },
   "file_extension": ".py",
   "mimetype": "text/x-python",
   "name": "python",
   "nbconvert_exporter": "python",
   "pygments_lexer": "ipython3",
   "version": "3.7.0"
  }
 },
 "nbformat": 4,
 "nbformat_minor": 2
}
